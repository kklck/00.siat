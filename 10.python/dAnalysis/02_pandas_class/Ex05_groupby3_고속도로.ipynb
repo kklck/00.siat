{
 "cells": [
  {
   "cell_type": "markdown",
   "metadata": {},
   "source": [
    "## groupby()\n",
    "\n",
    "\n",
    "#### groupby()와 함께 사용하는 집계 메소드\n",
    "\n",
    "- count : 누락값을 제외한 데이타 수를 반환\n",
    "- size : 누락값을 포함한 데이타 수를 반환\n",
    "- sum : 합\n",
    "- mean : 평균\n",
    "- std : \n",
    "- var : \n",
    "- min : 최소\n",
    "- max : 최대\n",
    "- quantile(q=0.25) : \n",
    "- quantile(q=0.50) : \n",
    "- quantile(q=0.75)\n",
    "- describe : 요약통계량\n",
    "- first\n",
    "- last\n",
    "- nth   : n번째 행 반환\n",
    "- sem   : 평균의 표준편차 반환"
   ]
  },
  {
   "cell_type": "code",
   "execution_count": 2,
   "metadata": {},
   "outputs": [
    {
     "data": {
      "text/html": [
       "<div>\n",
       "<style scoped>\n",
       "    .dataframe tbody tr th:only-of-type {\n",
       "        vertical-align: middle;\n",
       "    }\n",
       "\n",
       "    .dataframe tbody tr th {\n",
       "        vertical-align: top;\n",
       "    }\n",
       "\n",
       "    .dataframe thead th {\n",
       "        text-align: right;\n",
       "    }\n",
       "</style>\n",
       "<table border=\"1\" class=\"dataframe\">\n",
       "  <thead>\n",
       "    <tr style=\"text-align: right;\">\n",
       "      <th></th>\n",
       "      <th>차종</th>\n",
       "      <th>선별</th>\n",
       "      <th>출발지</th>\n",
       "      <th>도착지</th>\n",
       "      <th>거리</th>\n",
       "      <th>총운행횟수</th>\n",
       "      <th>총이용인원</th>\n",
       "      <th>이용율</th>\n",
       "    </tr>\n",
       "  </thead>\n",
       "  <tbody>\n",
       "    <tr>\n",
       "      <th>0</th>\n",
       "      <td>우등</td>\n",
       "      <td>88선</td>\n",
       "      <td>광주</td>\n",
       "      <td>울산</td>\n",
       "      <td>327.8</td>\n",
       "      <td>412</td>\n",
       "      <td>7283</td>\n",
       "      <td>63.1</td>\n",
       "    </tr>\n",
       "    <tr>\n",
       "      <th>1</th>\n",
       "      <td>고속</td>\n",
       "      <td>88선</td>\n",
       "      <td>광주</td>\n",
       "      <td>울산</td>\n",
       "      <td>327.8</td>\n",
       "      <td>145</td>\n",
       "      <td>3050</td>\n",
       "      <td>46.7</td>\n",
       "    </tr>\n",
       "    <tr>\n",
       "      <th>2</th>\n",
       "      <td>우등</td>\n",
       "      <td>88선</td>\n",
       "      <td>광주</td>\n",
       "      <td>울산신복</td>\n",
       "      <td>327.8</td>\n",
       "      <td>164</td>\n",
       "      <td>545</td>\n",
       "      <td>11.9</td>\n",
       "    </tr>\n",
       "    <tr>\n",
       "      <th>3</th>\n",
       "      <td>고속</td>\n",
       "      <td>88선</td>\n",
       "      <td>광주</td>\n",
       "      <td>울산신복</td>\n",
       "      <td>327.8</td>\n",
       "      <td>70</td>\n",
       "      <td>311</td>\n",
       "      <td>9.9</td>\n",
       "    </tr>\n",
       "    <tr>\n",
       "      <th>4</th>\n",
       "      <td>우등</td>\n",
       "      <td>88선</td>\n",
       "      <td>광주</td>\n",
       "      <td>동대구</td>\n",
       "      <td>219.3</td>\n",
       "      <td>1369</td>\n",
       "      <td>21873</td>\n",
       "      <td>57.1</td>\n",
       "    </tr>\n",
       "    <tr>\n",
       "      <th>...</th>\n",
       "      <td>...</td>\n",
       "      <td>...</td>\n",
       "      <td>...</td>\n",
       "      <td>...</td>\n",
       "      <td>...</td>\n",
       "      <td>...</td>\n",
       "      <td>...</td>\n",
       "      <td>...</td>\n",
       "    </tr>\n",
       "    <tr>\n",
       "      <th>346</th>\n",
       "      <td>고속</td>\n",
       "      <td>호남선</td>\n",
       "      <td>청주</td>\n",
       "      <td>광주</td>\n",
       "      <td>207.5</td>\n",
       "      <td>268</td>\n",
       "      <td>4858</td>\n",
       "      <td>40.3</td>\n",
       "    </tr>\n",
       "    <tr>\n",
       "      <th>347</th>\n",
       "      <td>고속</td>\n",
       "      <td>호남선</td>\n",
       "      <td>청주시외</td>\n",
       "      <td>여수</td>\n",
       "      <td>290.1</td>\n",
       "      <td>21</td>\n",
       "      <td>513</td>\n",
       "      <td>54.3</td>\n",
       "    </tr>\n",
       "    <tr>\n",
       "      <th>348</th>\n",
       "      <td>우등</td>\n",
       "      <td>호남선</td>\n",
       "      <td>광주</td>\n",
       "      <td>전주</td>\n",
       "      <td>105.9</td>\n",
       "      <td>1802</td>\n",
       "      <td>34137</td>\n",
       "      <td>67.7</td>\n",
       "    </tr>\n",
       "    <tr>\n",
       "      <th>349</th>\n",
       "      <td>고속</td>\n",
       "      <td>호남선</td>\n",
       "      <td>광주</td>\n",
       "      <td>전주</td>\n",
       "      <td>105.9</td>\n",
       "      <td>1043</td>\n",
       "      <td>30394</td>\n",
       "      <td>64.8</td>\n",
       "    </tr>\n",
       "    <tr>\n",
       "      <th>350</th>\n",
       "      <td>우등</td>\n",
       "      <td>호남선</td>\n",
       "      <td>여수</td>\n",
       "      <td>군산</td>\n",
       "      <td>195.9</td>\n",
       "      <td>114</td>\n",
       "      <td>711</td>\n",
       "      <td>22.3</td>\n",
       "    </tr>\n",
       "  </tbody>\n",
       "</table>\n",
       "<p>351 rows × 8 columns</p>\n",
       "</div>"
      ],
      "text/plain": [
       "     차종   선별   출발지   도착지     거리  총운행횟수  총이용인원   이용율\n",
       "0    우등  88선    광주    울산  327.8    412   7283  63.1\n",
       "1    고속  88선    광주    울산  327.8    145   3050  46.7\n",
       "2    우등  88선    광주  울산신복  327.8    164    545  11.9\n",
       "3    고속  88선    광주  울산신복  327.8     70    311   9.9\n",
       "4    우등  88선    광주   동대구  219.3   1369  21873  57.1\n",
       "..   ..  ...   ...   ...    ...    ...    ...   ...\n",
       "346  고속  호남선    청주    광주  207.5    268   4858  40.3\n",
       "347  고속  호남선  청주시외    여수  290.1     21    513  54.3\n",
       "348  우등  호남선    광주    전주  105.9   1802  34137  67.7\n",
       "349  고속  호남선    광주    전주  105.9   1043  30394  64.8\n",
       "350  우등  호남선    여수    군산  195.9    114    711  22.3\n",
       "\n",
       "[351 rows x 8 columns]"
      ]
     },
     "execution_count": 2,
     "metadata": {},
     "output_type": "execute_result"
    }
   ],
   "source": [
    "import pandas as pd\n",
    "\n",
    "df = pd.read_excel('data/고속버스.xlsx') \n",
    "df\n"
   ]
  },
  {
   "cell_type": "code",
   "execution_count": 10,
   "metadata": {},
   "outputs": [
    {
     "data": {
      "text/html": [
       "<div>\n",
       "<style scoped>\n",
       "    .dataframe tbody tr th:only-of-type {\n",
       "        vertical-align: middle;\n",
       "    }\n",
       "\n",
       "    .dataframe tbody tr th {\n",
       "        vertical-align: top;\n",
       "    }\n",
       "\n",
       "    .dataframe thead th {\n",
       "        text-align: right;\n",
       "    }\n",
       "</style>\n",
       "<table border=\"1\" class=\"dataframe\">\n",
       "  <thead>\n",
       "    <tr style=\"text-align: right;\">\n",
       "      <th></th>\n",
       "      <th>차종</th>\n",
       "      <th>출발지</th>\n",
       "      <th>도착지</th>\n",
       "      <th>거리</th>\n",
       "      <th>총운행횟수</th>\n",
       "      <th>총이용인원</th>\n",
       "      <th>이용율</th>\n",
       "    </tr>\n",
       "    <tr>\n",
       "      <th>선별</th>\n",
       "      <th></th>\n",
       "      <th></th>\n",
       "      <th></th>\n",
       "      <th></th>\n",
       "      <th></th>\n",
       "      <th></th>\n",
       "      <th></th>\n",
       "    </tr>\n",
       "  </thead>\n",
       "  <tbody>\n",
       "    <tr>\n",
       "      <th>호남선</th>\n",
       "      <td>122</td>\n",
       "      <td>122</td>\n",
       "      <td>122</td>\n",
       "      <td>122</td>\n",
       "      <td>122</td>\n",
       "      <td>122</td>\n",
       "      <td>122</td>\n",
       "    </tr>\n",
       "    <tr>\n",
       "      <th>경부선</th>\n",
       "      <td>105</td>\n",
       "      <td>105</td>\n",
       "      <td>105</td>\n",
       "      <td>105</td>\n",
       "      <td>105</td>\n",
       "      <td>105</td>\n",
       "      <td>105</td>\n",
       "    </tr>\n",
       "    <tr>\n",
       "      <th>구마선</th>\n",
       "      <td>30</td>\n",
       "      <td>30</td>\n",
       "      <td>30</td>\n",
       "      <td>30</td>\n",
       "      <td>30</td>\n",
       "      <td>30</td>\n",
       "      <td>30</td>\n",
       "    </tr>\n",
       "    <tr>\n",
       "      <th>영동선</th>\n",
       "      <td>26</td>\n",
       "      <td>26</td>\n",
       "      <td>26</td>\n",
       "      <td>26</td>\n",
       "      <td>26</td>\n",
       "      <td>26</td>\n",
       "      <td>26</td>\n",
       "    </tr>\n",
       "    <tr>\n",
       "      <th>경인선</th>\n",
       "      <td>25</td>\n",
       "      <td>25</td>\n",
       "      <td>25</td>\n",
       "      <td>25</td>\n",
       "      <td>25</td>\n",
       "      <td>25</td>\n",
       "      <td>25</td>\n",
       "    </tr>\n",
       "    <tr>\n",
       "      <th>남해선</th>\n",
       "      <td>21</td>\n",
       "      <td>21</td>\n",
       "      <td>21</td>\n",
       "      <td>21</td>\n",
       "      <td>21</td>\n",
       "      <td>21</td>\n",
       "      <td>21</td>\n",
       "    </tr>\n",
       "    <tr>\n",
       "      <th>88선</th>\n",
       "      <td>18</td>\n",
       "      <td>18</td>\n",
       "      <td>18</td>\n",
       "      <td>18</td>\n",
       "      <td>18</td>\n",
       "      <td>18</td>\n",
       "      <td>18</td>\n",
       "    </tr>\n",
       "    <tr>\n",
       "      <th>동해선</th>\n",
       "      <td>4</td>\n",
       "      <td>4</td>\n",
       "      <td>4</td>\n",
       "      <td>4</td>\n",
       "      <td>4</td>\n",
       "      <td>4</td>\n",
       "      <td>4</td>\n",
       "    </tr>\n",
       "  </tbody>\n",
       "</table>\n",
       "</div>"
      ],
      "text/plain": [
       "      차종  출발지  도착지   거리  총운행횟수  총이용인원  이용율\n",
       "선별                                        \n",
       "호남선  122  122  122  122    122    122  122\n",
       "경부선  105  105  105  105    105    105  105\n",
       "구마선   30   30   30   30     30     30   30\n",
       "영동선   26   26   26   26     26     26   26\n",
       "경인선   25   25   25   25     25     25   25\n",
       "남해선   21   21   21   21     21     21   21\n",
       "88선   18   18   18   18     18     18   18\n",
       "동해선    4    4    4    4      4      4    4"
      ]
     },
     "execution_count": 10,
     "metadata": {},
     "output_type": "execute_result"
    }
   ],
   "source": [
    "# 그룹화 - '선별' 단위로 각각의 노선에 대한 총 갯수\n",
    "df.groupby(\"선별\").count()\n",
    "\n",
    "df.groupby(\"선별\").count().sort_values(\"차종\", ascending=0)"
   ]
  },
  {
   "cell_type": "code",
   "execution_count": 11,
   "metadata": {
    "scrolled": true
   },
   "outputs": [],
   "source": [
    "%matplotlib inline\n",
    "\n",
    "# 한글처리\n",
    "from matplotlib import rc\n",
    "rc('font', family='Malgun Gothic')"
   ]
  },
  {
   "cell_type": "code",
   "execution_count": 23,
   "metadata": {
    "scrolled": true
   },
   "outputs": [
    {
     "data": {
      "text/plain": [
       "<AxesSubplot:xlabel='선별'>"
      ]
     },
     "execution_count": 23,
     "metadata": {},
     "output_type": "execute_result"
    },
    {
     "data": {
      "image/png": "[encoded data removed]",
      "text/plain": [
       "<Figure size 432x288 with 1 Axes>"
      ]
     },
     "metadata": {
      "needs_background": "light"
     },
     "output_type": "display_data"
    }
   ],
   "source": [
    "# 노선별 수에 대한 그래프\n",
    "df.groupby(\"선별\")[\"차종\"].count().plot(kind=\"bar\") # bar = 막대, "
   ]
  },
  {
   "cell_type": "code",
   "execution_count": 13,
   "metadata": {
    "scrolled": true
   },
   "outputs": [],
   "source": [
    "# 차종별, 노선별별 그룹화 작업\n"
   ]
  },
  {
   "cell_type": "code",
   "execution_count": 28,
   "metadata": {},
   "outputs": [
    {
     "data": {
      "text/plain": [
       "<AxesSubplot:xlabel='차종'>"
      ]
     },
     "execution_count": 28,
     "metadata": {},
     "output_type": "execute_result"
    },
    {
     "data": {
      "image/png": "[encoded data removed]",
      "text/plain": [
       "<Figure size 432x288 with 1 Axes>"
      ]
     },
     "metadata": {
      "needs_background": "light"
     },
     "output_type": "display_data"
    }
   ],
   "source": [
    "# 교차테이블(cross tab) - 엑셀의 Pivot 유사\n",
    "result = pd.crosstab(df[\"차종\"], df[\"선별\"])\n",
    "result\n",
    "\n",
    "result.plot(kind=\"bar\")"
   ]
  },
  {
   "cell_type": "code",
   "execution_count": null,
   "metadata": {},
   "outputs": [],
   "source": []
  },
  {
   "cell_type": "code",
   "execution_count": null,
   "metadata": {},
   "outputs": [],
   "source": []
  }
 ],
 "metadata": {
  "kernelspec": {
   "display_name": "Python 3",
   "language": "python",
   "name": "python3"
  },
  "language_info": {
   "codemirror_mode": {
    "name": "ipython",
    "version": 3
   },
   "file_extension": ".py",
   "mimetype": "text/x-python",
   "name": "python",
   "nbconvert_exporter": "python",
   "pygments_lexer": "ipython3",
   "version": "3.8.5"
  }
 },
 "nbformat": 4,
 "nbformat_minor": 2
}
