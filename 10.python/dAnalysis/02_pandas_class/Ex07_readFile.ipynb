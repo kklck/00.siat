{
 "cells": [
  {
   "cell_type": "markdown",
   "metadata": {},
   "source": [
    "### 다양한 포맷으로 된 파일을 DataFrame으로 로딩하는 API \n",
    "\n",
    "1.  read_excel()\n",
    "\n",
    "\n",
    "2.  read_csv()         \n",
    "    - 기본 구분자 콤마(,)\n",
    "\n",
    "\n",
    "3.  read_table() : 기본 구문자가 탭(\\t)이다\n",
    "               read_csv('파일명','\\t') 동일하다\n",
    "                   \n",
    "4.  read_fwf() : Fixed Width (고정길이) 기반의 컬럼 포맷을 읽어오는 함수\n",
    "\n",
    "\n",
    "\n",
    "\n",
    "##### [참고]  utf-8 관련 에러 발생한다면?\n",
    "    - read_csv('data/temp.csv', encoding=cp949)\n",
    "    - cp949 : 윈도우에서의 한글"
   ]
  },
  {
   "cell_type": "code",
   "execution_count": 2,
   "metadata": {
    "scrolled": false
   },
   "outputs": [
    {
     "data": {
      "text/html": [
       "<div>\n",
       "<style scoped>\n",
       "    .dataframe tbody tr th:only-of-type {\n",
       "        vertical-align: middle;\n",
       "    }\n",
       "\n",
       "    .dataframe tbody tr th {\n",
       "        vertical-align: top;\n",
       "    }\n",
       "\n",
       "    .dataframe thead th {\n",
       "        text-align: right;\n",
       "    }\n",
       "</style>\n",
       "<table border=\"1\" class=\"dataframe\">\n",
       "  <thead>\n",
       "    <tr style=\"text-align: right;\">\n",
       "      <th></th>\n",
       "      <th>시도</th>\n",
       "      <th>구분</th>\n",
       "      <th>인구</th>\n",
       "      <th>면적</th>\n",
       "    </tr>\n",
       "  </thead>\n",
       "  <tbody>\n",
       "    <tr>\n",
       "      <th>0</th>\n",
       "      <td>서울</td>\n",
       "      <td>특별시</td>\n",
       "      <td>999만</td>\n",
       "      <td>600.9</td>\n",
       "    </tr>\n",
       "    <tr>\n",
       "      <th>1</th>\n",
       "      <td>경기</td>\n",
       "      <td>도</td>\n",
       "      <td>1300만</td>\n",
       "      <td>10171.0</td>\n",
       "    </tr>\n",
       "    <tr>\n",
       "      <th>2</th>\n",
       "      <td>인천</td>\n",
       "      <td>광역시</td>\n",
       "      <td>400만</td>\n",
       "      <td>1234.5</td>\n",
       "    </tr>\n",
       "    <tr>\n",
       "      <th>3</th>\n",
       "      <td>부산</td>\n",
       "      <td>광역시</td>\n",
       "      <td>600만</td>\n",
       "      <td>747.8</td>\n",
       "    </tr>\n",
       "    <tr>\n",
       "      <th>4</th>\n",
       "      <td>대전</td>\n",
       "      <td>광역시</td>\n",
       "      <td>300만</td>\n",
       "      <td>459.1</td>\n",
       "    </tr>\n",
       "  </tbody>\n",
       "</table>\n",
       "</div>"
      ],
      "text/plain": [
       "   시도   구분     인구       면적\n",
       "0  서울  특별시   999만    600.9\n",
       "1  경기    도  1300만  10171.0\n",
       "2  인천  광역시   400만   1234.5\n",
       "3  부산  광역시   600만    747.8\n",
       "4  대전  광역시   300만    459.1"
      ]
     },
     "execution_count": 2,
     "metadata": {},
     "output_type": "execute_result"
    }
   ],
   "source": [
    "import pandas as pd\n",
    "\n",
    "# csv 파일로 저장하기\n",
    "mysource = {\n",
    "    '시도':['서울','경기','인천','부산','대전'],\n",
    "    '구분':['특별시','도','광역시','광역시','광역시'],\n",
    "    '인구':['999만','1300만','400만','600만','300만'],\n",
    "    '면적':[600.9, 10171, 1234.5, 747.8, 459.1]\n",
    "}\n",
    "df = pd.DataFrame(mysource)\n",
    "df"
   ]
  },
  {
   "cell_type": "code",
   "execution_count": 18,
   "metadata": {},
   "outputs": [],
   "source": [
    "# csv 파일을 읽어오는 방법\n",
    "df.to_csv(\"./result/temp.csv\", encoding=\"cp949\") # csv 파일로 만들고 저장, 한글 깨짐\n",
    "df.to_excel(\"./result/temp.xlsx\") # excel 파일로 만들고 저장"
   ]
  },
  {
   "cell_type": "code",
   "execution_count": 32,
   "metadata": {},
   "outputs": [
    {
     "data": {
      "text/html": [
       "<div>\n",
       "<style scoped>\n",
       "    .dataframe tbody tr th:only-of-type {\n",
       "        vertical-align: middle;\n",
       "    }\n",
       "\n",
       "    .dataframe tbody tr th {\n",
       "        vertical-align: top;\n",
       "    }\n",
       "\n",
       "    .dataframe thead th {\n",
       "        text-align: right;\n",
       "    }\n",
       "</style>\n",
       "<table border=\"1\" class=\"dataframe\">\n",
       "  <thead>\n",
       "    <tr style=\"text-align: right;\">\n",
       "      <th></th>\n",
       "      <th>시도</th>\n",
       "      <th>구분</th>\n",
       "      <th>인구</th>\n",
       "      <th>면적</th>\n",
       "    </tr>\n",
       "  </thead>\n",
       "  <tbody>\n",
       "    <tr>\n",
       "      <th>0</th>\n",
       "      <td>서울</td>\n",
       "      <td>특별시</td>\n",
       "      <td>999만</td>\n",
       "      <td>600.9</td>\n",
       "    </tr>\n",
       "    <tr>\n",
       "      <th>1</th>\n",
       "      <td>경기</td>\n",
       "      <td>도</td>\n",
       "      <td>1300만</td>\n",
       "      <td>10171.0</td>\n",
       "    </tr>\n",
       "    <tr>\n",
       "      <th>2</th>\n",
       "      <td>인천</td>\n",
       "      <td>광역시</td>\n",
       "      <td>400만</td>\n",
       "      <td>1234.5</td>\n",
       "    </tr>\n",
       "    <tr>\n",
       "      <th>3</th>\n",
       "      <td>부산</td>\n",
       "      <td>광역시</td>\n",
       "      <td>600만</td>\n",
       "      <td>747.8</td>\n",
       "    </tr>\n",
       "    <tr>\n",
       "      <th>4</th>\n",
       "      <td>대전</td>\n",
       "      <td>광역시</td>\n",
       "      <td>300만</td>\n",
       "      <td>459.1</td>\n",
       "    </tr>\n",
       "  </tbody>\n",
       "</table>\n",
       "</div>"
      ],
      "text/plain": [
       "   시도   구분     인구       면적\n",
       "0  서울  특별시   999만    600.9\n",
       "1  경기    도  1300만  10171.0\n",
       "2  인천  광역시   400만   1234.5\n",
       "3  부산  광역시   600만    747.8\n",
       "4  대전  광역시   300만    459.1"
      ]
     },
     "execution_count": 32,
     "metadata": {},
     "output_type": "execute_result"
    }
   ],
   "source": [
    "# 컬럼명을 인덱스로 지정\n",
    "df2 = pd.read_csv(\"./result/temp.csv\", encoding=\"cp949\")\n",
    "df2\n",
    "\n",
    "df2 = pd.read_csv(\"./result/temp.csv\", index_col=\"Unnamed: 0\", encoding=\"cp949\") # 불필요한 열 제외\n",
    "df2\n"
   ]
  },
  {
   "cell_type": "code",
   "execution_count": 35,
   "metadata": {},
   "outputs": [
    {
     "data": {
      "text/html": [
       "<div>\n",
       "<style scoped>\n",
       "    .dataframe tbody tr th:only-of-type {\n",
       "        vertical-align: middle;\n",
       "    }\n",
       "\n",
       "    .dataframe tbody tr th {\n",
       "        vertical-align: top;\n",
       "    }\n",
       "\n",
       "    .dataframe thead th {\n",
       "        text-align: right;\n",
       "    }\n",
       "</style>\n",
       "<table border=\"1\" class=\"dataframe\">\n",
       "  <thead>\n",
       "    <tr style=\"text-align: right;\">\n",
       "      <th></th>\n",
       "      <th>시도</th>\n",
       "      <th>구분</th>\n",
       "      <th>인구</th>\n",
       "      <th>면적</th>\n",
       "    </tr>\n",
       "  </thead>\n",
       "  <tbody>\n",
       "    <tr>\n",
       "      <th>2</th>\n",
       "      <td>인천</td>\n",
       "      <td>광역시</td>\n",
       "      <td>400만</td>\n",
       "      <td>1234.5</td>\n",
       "    </tr>\n",
       "    <tr>\n",
       "      <th>3</th>\n",
       "      <td>부산</td>\n",
       "      <td>광역시</td>\n",
       "      <td>600만</td>\n",
       "      <td>747.8</td>\n",
       "    </tr>\n",
       "    <tr>\n",
       "      <th>4</th>\n",
       "      <td>대전</td>\n",
       "      <td>광역시</td>\n",
       "      <td>300만</td>\n",
       "      <td>459.1</td>\n",
       "    </tr>\n",
       "  </tbody>\n",
       "</table>\n",
       "</div>"
      ],
      "text/plain": [
       "   시도   구분    인구      면적\n",
       "2  인천  광역시  400만  1234.5\n",
       "3  부산  광역시  600만   747.8\n",
       "4  대전  광역시  300만   459.1"
      ]
     },
     "execution_count": 35,
     "metadata": {},
     "output_type": "execute_result"
    }
   ],
   "source": [
    "# 불필요한 행 제외하고 로딩하기\n",
    "\n",
    "# df2[2:]\n",
    "df2 = pd.read_csv(\"./result/temp.csv\", index_col=\"Unnamed: 0\", skiprows=[1,2], encoding=\"cp949\") # 불필요한 열 제외\n",
    "df2"
   ]
  },
  {
   "cell_type": "code",
   "execution_count": 6,
   "metadata": {},
   "outputs": [],
   "source": [
    "# 출력행수 지정\n"
   ]
  },
  {
   "cell_type": "code",
   "execution_count": 7,
   "metadata": {
    "scrolled": true
   },
   "outputs": [],
   "source": [
    "# 엑셀 파일 로딩하기\n"
   ]
  },
  {
   "cell_type": "code",
   "execution_count": 42,
   "metadata": {},
   "outputs": [
    {
     "data": {
      "text/plain": [
       "Index(['내국인계', '내국인_남자', '내국인_여자', '외국인계', '외국인_남자', '외국인_여자'], dtype='object')"
      ]
     },
     "execution_count": 42,
     "metadata": {},
     "output_type": "execute_result"
    }
   ],
   "source": [
    "# 컬럼 지정 (컬럼의 종류가 너무 많은데 필요한 부분이 작은 경우에 사용한다)\n",
    "df = pd.read_excel(\"data/인구주택총조사2015.xlsx\", nrows=10, usecols=\"E:J\") # 엑셀 열 이름 A~\n",
    "df\n",
    "\n",
    "df.columns # 남자 "
   ]
  },
  {
   "cell_type": "markdown",
   "metadata": {},
   "source": [
    "### 텍스트파일 읽어오기"
   ]
  },
  {
   "cell_type": "code",
   "execution_count": 44,
   "metadata": {},
   "outputs": [
    {
     "data": {
      "text/html": [
       "<div>\n",
       "<style scoped>\n",
       "    .dataframe tbody tr th:only-of-type {\n",
       "        vertical-align: middle;\n",
       "    }\n",
       "\n",
       "    .dataframe tbody tr th {\n",
       "        vertical-align: top;\n",
       "    }\n",
       "\n",
       "    .dataframe thead th {\n",
       "        text-align: right;\n",
       "    }\n",
       "</style>\n",
       "<table border=\"1\" class=\"dataframe\">\n",
       "  <thead>\n",
       "    <tr style=\"text-align: right;\">\n",
       "      <th></th>\n",
       "      <th>행정구역별</th>\n",
       "      <th>총인구</th>\n",
       "      <th>남자</th>\n",
       "      <th>여자</th>\n",
       "      <th>내국인계</th>\n",
       "      <th>내국인_남자</th>\n",
       "    </tr>\n",
       "  </thead>\n",
       "  <tbody>\n",
       "    <tr>\n",
       "      <th>0</th>\n",
       "      <td>전국</td>\n",
       "      <td>51069375</td>\n",
       "      <td>25608502</td>\n",
       "      <td>25460873</td>\n",
       "      <td>49705663</td>\n",
       "      <td>24819839</td>\n",
       "    </tr>\n",
       "    <tr>\n",
       "      <th>1</th>\n",
       "      <td>읍부</td>\n",
       "      <td>4616802</td>\n",
       "      <td>2360708</td>\n",
       "      <td>2256094</td>\n",
       "      <td>4467697</td>\n",
       "      <td>2262853</td>\n",
       "    </tr>\n",
       "    <tr>\n",
       "      <th>2</th>\n",
       "      <td>면부</td>\n",
       "      <td>4774878</td>\n",
       "      <td>2455898</td>\n",
       "      <td>2318980</td>\n",
       "      <td>4546520</td>\n",
       "      <td>2291860</td>\n",
       "    </tr>\n",
       "    <tr>\n",
       "      <th>3</th>\n",
       "      <td>동부</td>\n",
       "      <td>41677695</td>\n",
       "      <td>20791896</td>\n",
       "      <td>20885799</td>\n",
       "      <td>40691446</td>\n",
       "      <td>20265126</td>\n",
       "    </tr>\n",
       "  </tbody>\n",
       "</table>\n",
       "</div>"
      ],
      "text/plain": [
       "  행정구역별       총인구        남자        여자      내국인계    내국인_남자\n",
       "0    전국  51069375  25608502  25460873  49705663  24819839\n",
       "1    읍부   4616802   2360708   2256094   4467697   2262853\n",
       "2    면부   4774878   2455898   2318980   4546520   2291860\n",
       "3    동부  41677695  20791896  20885799  40691446  20265126"
      ]
     },
     "execution_count": 44,
     "metadata": {},
     "output_type": "execute_result"
    }
   ],
   "source": [
    "# 텍스트파일(data/TextData.txt) 읽어오기\n",
    "# 미리 엑셀파일에서 5줄 복사해서 메모장에 넣고 (탭구분상태)로 저장한다.\n",
    "df = pd.read_csv(\"data/TextData.txt\",\"\\t\", encoding=\"cp949\")\n",
    "df"
   ]
  },
  {
   "cell_type": "markdown",
   "metadata": {},
   "source": [
    "### JSON 파일 읽어오기"
   ]
  },
  {
   "cell_type": "code",
   "execution_count": 55,
   "metadata": {},
   "outputs": [
    {
     "data": {
      "text/plain": [
       "'bibimbab'"
      ]
     },
     "execution_count": 55,
     "metadata": {},
     "output_type": "execute_result"
    }
   ],
   "source": [
    "# JSON 파일(data/JsonData.json) 읽어오기\n",
    "\n",
    "#pd.read_json() 존재하지만, ...\n",
    "\n",
    "import json\n",
    "\n",
    "df = json.load(open(\"data/JsonData.json\"))\n",
    "df[\"food_name\"][\"best-of-best\"]"
   ]
  },
  {
   "cell_type": "code",
   "execution_count": null,
   "metadata": {},
   "outputs": [],
   "source": []
  },
  {
   "cell_type": "code",
   "execution_count": null,
   "metadata": {},
   "outputs": [],
   "source": []
  },
  {
   "cell_type": "code",
   "execution_count": null,
   "metadata": {},
   "outputs": [],
   "source": []
  },
  {
   "cell_type": "code",
   "execution_count": null,
   "metadata": {},
   "outputs": [],
   "source": []
  },
  {
   "cell_type": "code",
   "execution_count": null,
   "metadata": {},
   "outputs": [],
   "source": []
  },
  {
   "cell_type": "code",
   "execution_count": null,
   "metadata": {},
   "outputs": [],
   "source": []
  }
 ],
 "metadata": {
  "kernelspec": {
   "display_name": "Python 3",
   "language": "python",
   "name": "python3"
  },
  "language_info": {
   "codemirror_mode": {
    "name": "ipython",
    "version": 3
   },
   "file_extension": ".py",
   "mimetype": "text/x-python",
   "name": "python",
   "nbconvert_exporter": "python",
   "pygments_lexer": "ipython3",
   "version": "3.8.5"
  }
 },
 "nbformat": 4,
 "nbformat_minor": 2
}
